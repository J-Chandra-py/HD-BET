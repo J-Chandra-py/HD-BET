{
 "cells": [
  {
   "cell_type": "code",
   "execution_count": 1,
   "metadata": {},
   "outputs": [],
   "source": [
    "import os.path\n",
    "from multiprocessing import Pool\n",
    "import sys\n",
    "import SimpleITK as sitk\n",
    "import torch\n",
    "from batchgenerators.utilities.file_and_folder_operations import nifti_files, join, maybe_mkdir_p, isdir\n",
    "sys.stdout = open(os.devnull, 'w')\n",
    "from nnunetv2.inference.predict_from_raw_data import nnUNetPredictor\n",
    "sys.stdout = sys.__stdout__\n",
    "from HD_BET.paths import folder_with_parameter_files\n"
   ]
  },
  {
   "cell_type": "code",
   "execution_count": 39,
   "metadata": {},
   "outputs": [],
   "source": [
    "\n",
    "# def dilate_mask(mask, iterations=1):\n",
    "\n",
    "def apply_bet(img, bet, out_fname, dilation_radius):\n",
    "    \"\"\"\n",
    "    Apply BET mask to image and save the result.\n",
    "    \"\"\"\n",
    "    img_itk = sitk.ReadImage(img)\n",
    "    img_npy = sitk.GetArrayFromImage(img_itk)\n",
    "    img_bet = sitk.ReadImage(bet)\n",
    "    dilated_bet = sitk.BinaryDilate(img_bet, [int(dilation_radius)]*3)\n",
    "    img_bet_npy = sitk.GetArrayFromImage(dilated_bet)\n",
    "    img_npy[img_bet_npy == 0] = 0\n",
    "    out = sitk.GetImageFromArray(img_npy)\n",
    "    out.CopyInformation(img_itk)\n",
    "    sitk.WriteImage(out, out_fname)\n"
   ]
  },
  {
   "cell_type": "code",
   "execution_count": 3,
   "metadata": {},
   "outputs": [],
   "source": [
    "def get_hdbet_predictor(\n",
    "        use_tta: bool = False,\n",
    "        device: torch.device = torch.device('cuda'),\n",
    "        verbose: bool = False\n",
    "):\n",
    "    os.environ['nnUNet_compile'] = 'F'\n",
    "    predictor = nnUNetPredictor(\n",
    "        tile_step_size=0.5,\n",
    "        use_gaussian=True,\n",
    "        use_mirroring=use_tta,\n",
    "        perform_everything_on_device=True,\n",
    "        device=device,\n",
    "        verbose=verbose,\n",
    "        verbose_preprocessing=verbose\n",
    "    )\n",
    "    predictor.initialize_from_trained_model_folder(\n",
    "        folder_with_parameter_files,\n",
    "        'all'\n",
    "    )\n",
    "    if device == torch.device('cpu'):\n",
    "        torch.set_num_threads(os.cpu_count())\n",
    "    return predictor\n"
   ]
  },
  {
   "cell_type": "code",
   "execution_count": null,
   "metadata": {},
   "outputs": [],
   "source": [
    "def hdbet_predict(\n",
    "        input_file_or_folder: str,\n",
    "        output_file_or_folder: str,\n",
    "        predictor: nnUNetPredictor,\n",
    "        keep_brain_mask: bool = False,\n",
    "        compute_brain_extracted_image: bool = True,\n",
    "        dilation_radius: int = 5,\n",
    "):\n",
    "    # find input file or files\n",
    "    if os.path.isdir(input_file_or_folder):\n",
    "        input_files = nifti_files(input_file_or_folder)\n",
    "        # output_file_or_folder must be folder in this case\n",
    "        maybe_mkdir_p(output_file_or_folder)\n",
    "        output_files = [join(output_file_or_folder, os.path.basename(i)) for i in input_files]\n",
    "        brain_mask_files = [i[:-7] + '_bet.nii.gz' for i in output_files]\n",
    "    else:\n",
    "        assert not isdir(output_file_or_folder), 'If input is a single file then output must be a filename, not a directory'\n",
    "        assert output_file_or_folder.endswith('.nii.gz'), 'Output file must end with .nii.gz'\n",
    "        input_files = [input_file_or_folder]\n",
    "        output_files = [join(os.path.curdir, output_file_or_folder)]\n",
    "        brain_mask_files = [join(os.path.curdir, output_file_or_folder[:-7] + '_bet.nii.gz')]\n",
    "\n",
    "    # we first just predict the brain masks using the standard nnU-Net inference\n",
    "    predictor.predict_from_files(\n",
    "        [[i] for i in input_files],\n",
    "        brain_mask_files,\n",
    "        save_probabilities=False,\n",
    "        overwrite=True,\n",
    "        num_processes_preprocessing=4,\n",
    "        num_processes_segmentation_export=8,\n",
    "        folder_with_segs_from_prev_stage=None,\n",
    "        num_parts=1,\n",
    "        part_id=0\n",
    "    )\n",
    "    # remove unnecessary json files\n",
    "    os.remove(join(os.path.dirname(brain_mask_files[0]), 'dataset.json'))\n",
    "    os.remove(join(os.path.dirname(brain_mask_files[0]), 'plans.json'))\n",
    "    os.remove(join(os.path.dirname(brain_mask_files[0]), 'predict_from_raw_data_args.json'))\n",
    "\n",
    "    if compute_brain_extracted_image:\n",
    "        # now brain extract the images\n",
    "        res = []\n",
    "        with Pool(4) as p:\n",
    "            for im, bet, out in zip(input_files, brain_mask_files, output_files):\n",
    "                res.append(\n",
    "                    p.starmap_async(\n",
    "                    apply_bet,\n",
    "                    ((im, bet, out, dilation_radius),)\n",
    "                    )\n",
    "                )\n",
    "            [i.get() for i in res]\n",
    "\n",
    "    if not keep_brain_mask:\n",
    "        [os.remove(i) for i in brain_mask_files]\n",
    "    # return output_files, brain_mask_files"
   ]
  },
  {
   "cell_type": "code",
   "execution_count": 5,
   "metadata": {},
   "outputs": [],
   "source": [
    "import torch\n",
    "\n",
    "from HD_BET.checkpoint_download import maybe_download_parameters\n",
    "from HD_BET.hd_bet_prediction import get_hdbet_predictor, hdbet_predict"
   ]
  },
  {
   "cell_type": "code",
   "execution_count": null,
   "metadata": {},
   "outputs": [],
   "source": [
    "# def main():\n",
    "#     print(\"\\n########################\")\n",
    "#     print(\"If you are using hd-bet, please cite the following papers:\\n\")\n",
    "#     print(\"Isensee F, Schell M, Tursunova I, Brugnara G, Bonekamp D, Neuberger U, Wick A, Schlemmer HP, Heiland S, Wick W, \"\n",
    "#            \"Bendszus M, Maier-Hein KH, Kickingereder P. Automated brain extraction of multi-sequence MRI using artificial \"\n",
    "#            \"neural networks. arXiv preprint arXiv:1901.11341, 2019.\\n\")\n",
    "#     print(\n",
    "#         \"Isensee, F., Jaeger, P. F., Kohl, S. A., Petersen, J., & Maier-Hein, K. H. (2021). \"\n",
    "#         \"nnU-Net: a self-configuring method for deep learning-based biomedical image segmentation. \"\n",
    "#         \"Nature methods, 18(2), 203-211.\")\n",
    "\n",
    "#     print(\"########################\\n\")\n",
    "\n",
    "#     import argparse\n",
    "#     parser = argparse.ArgumentParser()\n",
    "#     parser.add_argument('-i', '--input', help='input. Can be either a single file name or an input folder. If file: must be '\n",
    "#                                        'nifti (.nii.gz) and can only be 3D. No support for 4d images, use fslsplit to '\n",
    "#                                        'split 4d sequences into 3d images. If folder: all files ending with .nii.gz '\n",
    "#                                        'within that folder will be brain extracted.', required=True, type=str)\n",
    "#     parser.add_argument('-o', '--output', help='output. Can be either a filename or a folder. If it does not exist, the folder'\n",
    "#                                      ' will be created', required=False, type=str)\n",
    "#     parser.add_argument('-device', default='cuda', type=str, required=False,\n",
    "#                         help='used to set on which device the prediction will run. Can be \\'cuda\\' (=GPU), \\'cpu\\' or '\n",
    "#                              '\\'mps\\'. Default: cuda')\n",
    "#     parser.add_argument('--disable_tta', required=False, action='store_true',\n",
    "#                         help='Set this flag to disable test time augmentation. This will make prediction faster at a '\n",
    "#                              'slight decrease in prediction quality. Recommended for device cpu')\n",
    "\n",
    "#     parser.add_argument('--save_bet_mask', action='store_true', required=False,\n",
    "#                         help='Set this flag to keep the bet masks. Otherwise they will be removed once HD_BET is '\n",
    "#                              'done')\n",
    "#     parser.add_argument('--no_bet_image', action='store_true', required=False,\n",
    "#                         help=\"Set this flag to disable generating the skull stripped/brain extracted image. Only \"\n",
    "#                              \"makes sense if you also set --save_bet_mask\")\n",
    "#     parser.add_argument('--verbose', action='store_true', required=False,\n",
    "#                         help=\"Talk to me.\")\n",
    "\n",
    "#     args = parser.parse_args()\n",
    "\n",
    "#     maybe_download_parameters()\n",
    "\n",
    "#     predictor = get_hdbet_predictor(\n",
    "#         use_tta=not args.disable_tta,\n",
    "#         device=torch.device(args.device),\n",
    "#         verbose=args.verbose\n",
    "#     )\n",
    "\n",
    "#     hdbet_predict(args.input,args.output, predictor, keep_brain_mask=args.save_bet_mask,\n",
    "#                   compute_brain_extracted_image=not args.no_bet_image)\n",
    "\n",
    "\n",
    "# if __name__ == '__main__':\n",
    "#     main()"
   ]
  },
  {
   "cell_type": "code",
   "execution_count": 6,
   "metadata": {},
   "outputs": [],
   "source": [
    "maybe_download_parameters()\n",
    "\n",
    "predictor = get_hdbet_predictor(\n",
    "    use_tta=not False,\n",
    "    device=torch.device('cuda'),\n",
    "    verbose=True\n",
    ")"
   ]
  },
  {
   "cell_type": "code",
   "execution_count": 64,
   "metadata": {},
   "outputs": [],
   "source": [
    "dilatesize = 10 ## mm\n",
    "input_file = \"/data_dzne_archiv2/Studien/Deep_Learning_Visualization/temporary_stuff/Jaya_Chandra_Terli/Brain_extraction/hd_bet_output/20160331092323_Rostock_DZNE_BRAIN_F_s216320.nii.gz\"\n",
    "output_file = f\"/data_dzne_archiv2/Studien/Deep_Learning_Visualization/temporary_stuff/Jaya_Chandra_Terli/Brain_extraction/hd_bet_output/dilate_{dilatesize}mm_20160331092323_Rostock_DZNE_BRAIN_F_s216320.nii.gz\""
   ]
  },
  {
   "cell_type": "code",
   "execution_count": 54,
   "metadata": {},
   "outputs": [],
   "source": [
    "#for 1cm=10mm of bet-mask boundary expansion, we are\n",
    "dilation_radius = 10 / 2 #dilating 5 voxels in each direction"
   ]
  },
  {
   "cell_type": "code",
   "execution_count": 65,
   "metadata": {},
   "outputs": [
    {
     "name": "stderr",
     "output_type": "stream",
     "text": [
      "100%|██████████| 12/12 [00:06<00:00,  1.93it/s]\n"
     ]
    },
    {
     "data": {
      "text/plain": [
       "(['/data_dzne_archiv2/Studien/Deep_Learning_Visualization/temporary_stuff/Jaya_Chandra_Terli/Brain_extraction/hd_bet_output/dilate_10mm_20160331092323_Rostock_DZNE_BRAIN_F_s216320.nii.gz'],\n",
       " ['/data_dzne_archiv2/Studien/Deep_Learning_Visualization/temporary_stuff/Jaya_Chandra_Terli/Brain_extraction/hd_bet_output/dilate_10mm_20160331092323_Rostock_DZNE_BRAIN_F_s216320_bet.nii.gz'])"
      ]
     },
     "execution_count": 65,
     "metadata": {},
     "output_type": "execute_result"
    }
   ],
   "source": [
    "hdbet_predict(\n",
    "    input_file,\n",
    "    output_file, \n",
    "    predictor, \n",
    "    keep_brain_mask=True,\n",
    "    compute_brain_extracted_image=not False,\n",
    "    dilation_radius=dilation_radius\n",
    "    )\n"
   ]
  },
  {
   "cell_type": "code",
   "execution_count": null,
   "metadata": {},
   "outputs": [],
   "source": [
    "# img_itk = sitk.ReadImage(input_file)\n",
    "# img_npy = sitk.GetArrayFromImage(img_itk)\n",
    "# img_bet = sitk.ReadImage(masks[0])\n",
    "# img_bet.GetSpacing() # 1 voxel size: (x-mm, y-mm, z-mm)"
   ]
  },
  {
   "cell_type": "code",
   "execution_count": 66,
   "metadata": {},
   "outputs": [],
   "source": [
    "pet_input = \"/mnt/mrt/Describe/_downloaded/Muttray_FDG-PET/0050311816 MUTTRAY GTZ/2930177 PET FDG_Hirn/PT BR_CTAC Dynamic Brain/\""
   ]
  },
  {
   "cell_type": "code",
   "execution_count": 69,
   "metadata": {},
   "outputs": [],
   "source": [
    "dcm_0 = pet_input + \"PT000000.dcm\""
   ]
  },
  {
   "cell_type": "code",
   "execution_count": 71,
   "metadata": {},
   "outputs": [],
   "source": [
    "img_dcm = sitk.ReadImage(dcm_0)"
   ]
  },
  {
   "cell_type": "code",
   "execution_count": 75,
   "metadata": {},
   "outputs": [
    {
     "data": {
      "text/plain": [
       "(2.0, 2.0, 1.0)"
      ]
     },
     "execution_count": 75,
     "metadata": {},
     "output_type": "execute_result"
    }
   ],
   "source": [
    "img_dcm.GetSpacing()"
   ]
  },
  {
   "cell_type": "code",
   "execution_count": null,
   "metadata": {},
   "outputs": [],
   "source": []
  },
  {
   "cell_type": "code",
   "execution_count": null,
   "metadata": {},
   "outputs": [],
   "source": []
  }
 ],
 "metadata": {
  "kernelspec": {
   "display_name": "hdbet-local",
   "language": "python",
   "name": "python3"
  },
  "language_info": {
   "codemirror_mode": {
    "name": "ipython",
    "version": 3
   },
   "file_extension": ".py",
   "mimetype": "text/x-python",
   "name": "python",
   "nbconvert_exporter": "python",
   "pygments_lexer": "ipython3",
   "version": "3.10.0"
  }
 },
 "nbformat": 4,
 "nbformat_minor": 2
}
